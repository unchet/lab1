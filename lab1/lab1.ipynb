{
 "cells": [
  {
   "cell_type": "code",
   "execution_count": 1,
   "id": "f339da59",
   "metadata": {},
   "outputs": [],
   "source": [
    "import pandas as pd\n",
    "import pickle\n",
    "import numpy as np\n",
    "import seaborn as sns\n",
    "from sklearn.base import BaseEstimator, ClassifierMixin\n",
    "from sklearn.pipeline import Pipeline\n",
    "from sklearn.model_selection import GridSearchCV, RandomizedSearchCV\n",
    "from sklearn.preprocessing import Normalizer, StandardScaler\n",
    "import numpy as np\n",
    "import matplotlib.pyplot as plt"
   ]
  },
  {
   "cell_type": "markdown",
   "id": "d9a8e215",
   "metadata": {},
   "source": [
    "Загрузим и подготовим данные"
   ]
  },
  {
   "cell_type": "code",
   "execution_count": 2,
   "id": "bcd4dd81",
   "metadata": {},
   "outputs": [],
   "source": [
    "info = pd.read_csv('matches_info_4_4.csv')\n",
    "meta = pd.read_csv('matches_meta_4_4.csv')"
   ]
  },
  {
   "cell_type": "code",
   "execution_count": 3,
   "id": "69301e82",
   "metadata": {},
   "outputs": [
    {
     "data": {
      "text/plain": [
       "matchId\n",
       "NA1_4234668610    1\n",
       "NA1_4234676520    1\n",
       "NA1_4234678037    1\n",
       "NA1_4234685183    1\n",
       "NA1_4234695909    1\n",
       "                 ..\n",
       "NA1_4260902215    1\n",
       "NA1_4260902510    1\n",
       "NA1_4260903597    1\n",
       "NA1_4260903696    1\n",
       "NA1_4260911107    1\n",
       "Length: 8193, dtype: int64"
      ]
     },
     "execution_count": 3,
     "metadata": {},
     "output_type": "execute_result"
    }
   ],
   "source": [
    "meta.drop_duplicates(inplace=True)\n",
    "meta.value_counts(\"matchId\").sort_values(ascending=False)"
   ]
  },
  {
   "cell_type": "code",
   "execution_count": 4,
   "id": "445da0ad",
   "metadata": {},
   "outputs": [],
   "source": [
    "merged = pd.merge(info, meta[[\"matchId\",\"gameLength\",\"winningTeam\"]],how=\"inner\",on=\"matchId\")"
   ]
  },
  {
   "cell_type": "code",
   "execution_count": 5,
   "id": "d56359fa",
   "metadata": {},
   "outputs": [
    {
     "name": "stdout",
     "output_type": "stream",
     "text": [
      "<class 'pandas.core.frame.DataFrame'>\n",
      "Int64Index: 8191 entries, 0 to 8190\n",
      "Data columns (total 18 columns):\n",
      " #   Column           Non-Null Count  Dtype \n",
      "---  ------           --------------  ----- \n",
      " 0   matchId          8191 non-null   object\n",
      " 1   t1Dragons        8191 non-null   int64 \n",
      " 2   t2Dragons        8191 non-null   int64 \n",
      " 3   t1Rift           8191 non-null   int64 \n",
      " 4   t2Rift           8191 non-null   int64 \n",
      " 5   topGoldDiff      8191 non-null   int64 \n",
      " 6   jgGoldDiff       8191 non-null   int64 \n",
      " 7   midGoldDiff      8191 non-null   int64 \n",
      " 8   adcGoldDiff      8191 non-null   int64 \n",
      " 9   suppGoldDiff     8191 non-null   int64 \n",
      " 10  t1TopTowerTaken  8191 non-null   int64 \n",
      " 11  t1MidTowerTaken  8191 non-null   int64 \n",
      " 12  t1BotTowerTaken  8191 non-null   int64 \n",
      " 13  t2TopTowerTaken  8191 non-null   int64 \n",
      " 14  t2MidTowerTaken  8191 non-null   int64 \n",
      " 15  t2BotTowerTaken  8191 non-null   int64 \n",
      " 16  gameLength       8191 non-null   int64 \n",
      " 17  winningTeam      8191 non-null   int64 \n",
      "dtypes: int64(17), object(1)\n",
      "memory usage: 1.2+ MB\n"
     ]
    }
   ],
   "source": [
    "merged.info()"
   ]
  },
  {
   "cell_type": "code",
   "execution_count": 6,
   "id": "19399d33",
   "metadata": {},
   "outputs": [],
   "source": [
    "def winningConvert(x):\n",
    "    if x == 100:\n",
    "        return 1\n",
    "    else:\n",
    "        return 0\n",
    "\n",
    "merged[\"winningTeam\"] = merged[\"winningTeam\"].apply(winningConvert)"
   ]
  },
  {
   "cell_type": "code",
   "execution_count": 7,
   "id": "1b719512",
   "metadata": {
    "scrolled": true
   },
   "outputs": [
    {
     "data": {
      "text/html": [
       "<div>\n",
       "<style scoped>\n",
       "    .dataframe tbody tr th:only-of-type {\n",
       "        vertical-align: middle;\n",
       "    }\n",
       "\n",
       "    .dataframe tbody tr th {\n",
       "        vertical-align: top;\n",
       "    }\n",
       "\n",
       "    .dataframe thead th {\n",
       "        text-align: right;\n",
       "    }\n",
       "</style>\n",
       "<table border=\"1\" class=\"dataframe\">\n",
       "  <thead>\n",
       "    <tr style=\"text-align: right;\">\n",
       "      <th></th>\n",
       "      <th>matchId</th>\n",
       "      <th>t1Dragons</th>\n",
       "      <th>t2Dragons</th>\n",
       "      <th>t1Rift</th>\n",
       "      <th>t2Rift</th>\n",
       "      <th>topGoldDiff</th>\n",
       "      <th>jgGoldDiff</th>\n",
       "      <th>midGoldDiff</th>\n",
       "      <th>adcGoldDiff</th>\n",
       "      <th>suppGoldDiff</th>\n",
       "      <th>t1TopTowerTaken</th>\n",
       "      <th>t1MidTowerTaken</th>\n",
       "      <th>t1BotTowerTaken</th>\n",
       "      <th>t2TopTowerTaken</th>\n",
       "      <th>t2MidTowerTaken</th>\n",
       "      <th>t2BotTowerTaken</th>\n",
       "      <th>gameLength</th>\n",
       "      <th>winningTeam</th>\n",
       "    </tr>\n",
       "  </thead>\n",
       "  <tbody>\n",
       "    <tr>\n",
       "      <th>0</th>\n",
       "      <td>NA1_4246867983</td>\n",
       "      <td>2</td>\n",
       "      <td>0</td>\n",
       "      <td>0</td>\n",
       "      <td>0</td>\n",
       "      <td>2336</td>\n",
       "      <td>-1008</td>\n",
       "      <td>1383</td>\n",
       "      <td>731</td>\n",
       "      <td>683</td>\n",
       "      <td>0</td>\n",
       "      <td>0</td>\n",
       "      <td>0</td>\n",
       "      <td>1</td>\n",
       "      <td>0</td>\n",
       "      <td>0</td>\n",
       "      <td>1752</td>\n",
       "      <td>1</td>\n",
       "    </tr>\n",
       "    <tr>\n",
       "      <th>1</th>\n",
       "      <td>NA1_4249810674</td>\n",
       "      <td>1</td>\n",
       "      <td>1</td>\n",
       "      <td>0</td>\n",
       "      <td>1</td>\n",
       "      <td>936</td>\n",
       "      <td>1694</td>\n",
       "      <td>216</td>\n",
       "      <td>1817</td>\n",
       "      <td>2023</td>\n",
       "      <td>0</td>\n",
       "      <td>0</td>\n",
       "      <td>0</td>\n",
       "      <td>0</td>\n",
       "      <td>0</td>\n",
       "      <td>1</td>\n",
       "      <td>925</td>\n",
       "      <td>1</td>\n",
       "    </tr>\n",
       "    <tr>\n",
       "      <th>2</th>\n",
       "      <td>NA1_4260329763</td>\n",
       "      <td>0</td>\n",
       "      <td>2</td>\n",
       "      <td>0</td>\n",
       "      <td>1</td>\n",
       "      <td>-846</td>\n",
       "      <td>-1472</td>\n",
       "      <td>-5485</td>\n",
       "      <td>-2755</td>\n",
       "      <td>-339</td>\n",
       "      <td>1</td>\n",
       "      <td>2</td>\n",
       "      <td>2</td>\n",
       "      <td>0</td>\n",
       "      <td>0</td>\n",
       "      <td>0</td>\n",
       "      <td>911</td>\n",
       "      <td>0</td>\n",
       "    </tr>\n",
       "    <tr>\n",
       "      <th>3</th>\n",
       "      <td>NA1_4253638363</td>\n",
       "      <td>0</td>\n",
       "      <td>1</td>\n",
       "      <td>1</td>\n",
       "      <td>0</td>\n",
       "      <td>1312</td>\n",
       "      <td>397</td>\n",
       "      <td>1266</td>\n",
       "      <td>486</td>\n",
       "      <td>874</td>\n",
       "      <td>0</td>\n",
       "      <td>0</td>\n",
       "      <td>0</td>\n",
       "      <td>1</td>\n",
       "      <td>0</td>\n",
       "      <td>0</td>\n",
       "      <td>2800</td>\n",
       "      <td>0</td>\n",
       "    </tr>\n",
       "    <tr>\n",
       "      <th>4</th>\n",
       "      <td>NA1_4259164367</td>\n",
       "      <td>0</td>\n",
       "      <td>1</td>\n",
       "      <td>0</td>\n",
       "      <td>1</td>\n",
       "      <td>-1981</td>\n",
       "      <td>2913</td>\n",
       "      <td>-114</td>\n",
       "      <td>83</td>\n",
       "      <td>-226</td>\n",
       "      <td>1</td>\n",
       "      <td>0</td>\n",
       "      <td>0</td>\n",
       "      <td>0</td>\n",
       "      <td>0</td>\n",
       "      <td>0</td>\n",
       "      <td>2189</td>\n",
       "      <td>0</td>\n",
       "    </tr>\n",
       "  </tbody>\n",
       "</table>\n",
       "</div>"
      ],
      "text/plain": [
       "          matchId  t1Dragons  t2Dragons  t1Rift  t2Rift  topGoldDiff  \\\n",
       "0  NA1_4246867983          2          0       0       0         2336   \n",
       "1  NA1_4249810674          1          1       0       1          936   \n",
       "2  NA1_4260329763          0          2       0       1         -846   \n",
       "3  NA1_4253638363          0          1       1       0         1312   \n",
       "4  NA1_4259164367          0          1       0       1        -1981   \n",
       "\n",
       "   jgGoldDiff  midGoldDiff  adcGoldDiff  suppGoldDiff  t1TopTowerTaken  \\\n",
       "0       -1008         1383          731           683                0   \n",
       "1        1694          216         1817          2023                0   \n",
       "2       -1472        -5485        -2755          -339                1   \n",
       "3         397         1266          486           874                0   \n",
       "4        2913         -114           83          -226                1   \n",
       "\n",
       "   t1MidTowerTaken  t1BotTowerTaken  t2TopTowerTaken  t2MidTowerTaken  \\\n",
       "0                0                0                1                0   \n",
       "1                0                0                0                0   \n",
       "2                2                2                0                0   \n",
       "3                0                0                1                0   \n",
       "4                0                0                0                0   \n",
       "\n",
       "   t2BotTowerTaken  gameLength  winningTeam  \n",
       "0                0        1752            1  \n",
       "1                1         925            1  \n",
       "2                0         911            0  \n",
       "3                0        2800            0  \n",
       "4                0        2189            0  "
      ]
     },
     "execution_count": 7,
     "metadata": {},
     "output_type": "execute_result"
    }
   ],
   "source": [
    "merged.head()"
   ]
  },
  {
   "cell_type": "markdown",
   "id": "f078dfd2",
   "metadata": {},
   "source": [
    "Будем предсказывать победившую команду"
   ]
  },
  {
   "cell_type": "code",
   "execution_count": 8,
   "id": "cbc5b6ac",
   "metadata": {},
   "outputs": [],
   "source": [
    "from sklearn.model_selection import train_test_split\n",
    "\n",
    "X_train, X_test, y_train, y_test = train_test_split(merged.drop([\"matchId\",\"winningTeam\",\"gameLength\"],axis=1), \n",
    "                                                    merged[\"winningTeam\"], test_size=0.3, random_state=10)"
   ]
  },
  {
   "cell_type": "markdown",
   "id": "a323a6fc",
   "metadata": {},
   "source": [
    "Введем функцию для анализа точности моделей"
   ]
  },
  {
   "cell_type": "code",
   "execution_count": 9,
   "id": "4ef7e682",
   "metadata": {},
   "outputs": [],
   "source": [
    "from sklearn.metrics import accuracy_score, confusion_matrix, precision_score, recall_score, ConfusionMatrixDisplay\n",
    "\n",
    "def scores(model, data, labels):\n",
    "    pred = model.predict(data)\n",
    "    print('Accuracy:', accuracy_score(labels, pred))\n",
    "    print('Precision:', precision_score(labels, pred))\n",
    "    print('Recall:', recall_score(labels, pred))\n",
    "    figure = plt.figure(figsize=(12, 4))\n",
    "    matrix = confusion_matrix(labels, pred)\n",
    "    ax = plt.subplot(1, 2, 1)\n",
    "    ConfusionMatrixDisplay(matrix).plot(ax=ax)\n",
    "    plt.subplots_adjust(wspace=0.3)\n",
    "    plt.show()"
   ]
  },
  {
   "cell_type": "markdown",
   "id": "b0082e2c",
   "metadata": {},
   "source": [
    "## Логистическая регрессия"
   ]
  },
  {
   "cell_type": "code",
   "execution_count": 10,
   "id": "906bc468",
   "metadata": {},
   "outputs": [],
   "source": [
    "import warnings\n",
    "\n",
    "class Logistic_Regression(BaseEstimator, ClassifierMixin):\n",
    "    def __init__(self, lr=0.1, batch=10, epochs=1, alpha=0.0001):\n",
    "        self.lr = lr\n",
    "        self.batch = batch\n",
    "        self.epochs = epochs\n",
    "        self.alpha = alpha\n",
    "    \n",
    "    def fit(self, data, labels):\n",
    "        self.w = np.random.normal(0, 1, (data.shape[1]+1,))\n",
    "        data = np.concatenate((data, np.ones((data.shape[0],1))), axis=1)\n",
    "        for _ in range(self.epochs):\n",
    "            for i in range(self.batch, len(data), self.batch):\n",
    "                data_batch = data[i-self.batch:i]\n",
    "                labels_batch = labels[i-self.batch:i]\n",
    "                \n",
    "                pred = self.sigmoid(np.dot(self.w, data_batch.T))\n",
    "                grad = 2 * self.alpha * self.w + np.dot(pred - labels_batch, data_batch)\n",
    "                \n",
    "                self.w -= self.lr * grad\n",
    "        return self\n",
    "    \n",
    "    def sigmoid(self, x):\n",
    "        warnings.filterwarnings('ignore')\n",
    "        return 1 / (1 + np.exp(-x))\n",
    "    \n",
    "    def predict(self, data):\n",
    "        return (self.sigmoid(np.concatenate((data, np.ones((data.shape[0],1))), axis=1).dot(self.w)) > 0.5).astype('int64')"
   ]
  },
  {
   "cell_type": "code",
   "execution_count": 11,
   "id": "0ec14d72",
   "metadata": {},
   "outputs": [
    {
     "name": "stdout",
     "output_type": "stream",
     "text": [
      "{'log__alpha': 0.0001, 'log__batch': 10, 'log__epochs': 100, 'log__lr': 0.01}\n",
      "0.7488224079509336\n"
     ]
    }
   ],
   "source": [
    "gcv = GridSearchCV(Pipeline([('normalizer', Normalizer()), ('log', Logistic_Regression())]),\n",
    "                    {'log__lr': [0.1, 0.01, 0.001], 'log__epochs': [1, 10, 100], \n",
    "                     'log__batch': [10, 100, 1000], 'log__alpha': [0.01, 0.001, 0.0001]})\n",
    "gcv.fit(X_train, y_train)\n",
    "print(gcv.best_params_, gcv.best_score_, sep='\\n')"
   ]
  },
  {
   "cell_type": "code",
   "execution_count": 12,
   "id": "a2ed080c",
   "metadata": {},
   "outputs": [
    {
     "name": "stdout",
     "output_type": "stream",
     "text": [
      "Accuracy: 0.7506102522375916\n",
      "Precision: 0.7332820906994619\n",
      "Recall: 0.7819672131147541\n"
     ]
    },
    {
     "data": {
      "image/png": "[encoded data removed]",
      "text/plain": [
       "<Figure size 864x288 with 2 Axes>"
      ]
     },
     "metadata": {
      "needs_background": "light"
     },
     "output_type": "display_data"
    }
   ],
   "source": [
    "log = gcv.best_estimator_\n",
    "scores(log, X_test, y_test)"
   ]
  },
  {
   "cell_type": "code",
   "execution_count": 13,
   "id": "1dd4a27e",
   "metadata": {},
   "outputs": [],
   "source": [
    "f = open(\"log.pkl\", \"wb\")\n",
    "pickle.dump(log, f, pickle.HIGHEST_PROTOCOL)\n",
    "f.close()"
   ]
  },
  {
   "cell_type": "markdown",
   "id": "5270791f",
   "metadata": {},
   "source": [
    "Сравним c логистической регрессией из sklearn"
   ]
  },
  {
   "cell_type": "code",
   "execution_count": 14,
   "id": "923c25bc",
   "metadata": {},
   "outputs": [
    {
     "name": "stdout",
     "output_type": "stream",
     "text": [
      "{'logreg__penalty': 'none', 'logreg__solver': 'lbfgs'}\n",
      "0.7556273212919049\n"
     ]
    }
   ],
   "source": [
    "from sklearn.linear_model import LogisticRegression\n",
    "\n",
    "gcv = GridSearchCV(Pipeline([('logreg', LogisticRegression())]),\n",
    "                    {\"logreg__penalty\" : [\"l2\", \"none\"],\n",
    "                     \"logreg__solver\" : [\"newton-cg\", \"lbfgs\"]})\n",
    "\n",
    "gcv.fit(X_train, y_train)\n",
    "print(gcv.best_params_, gcv.best_score_, sep='\\n')"
   ]
  },
  {
   "cell_type": "code",
   "execution_count": 15,
   "id": "bc978fce",
   "metadata": {},
   "outputs": [
    {
     "name": "stdout",
     "output_type": "stream",
     "text": [
      "Accuracy: 0.7473555736371034\n",
      "Precision: 0.7341673182173573\n",
      "Recall: 0.769672131147541\n"
     ]
    },
    {
     "data": {
      "image/png": "[encoded data removed]",
      "text/plain": [
       "<Figure size 864x288 with 2 Axes>"
      ]
     },
     "metadata": {
      "needs_background": "light"
     },
     "output_type": "display_data"
    }
   ],
   "source": [
    "log = gcv.best_estimator_\n",
    "scores(log, X_test, y_test)"
   ]
  },
  {
   "cell_type": "markdown",
   "id": "cff49825",
   "metadata": {},
   "source": [
    "## KNN"
   ]
  },
  {
   "cell_type": "code",
   "execution_count": 16,
   "id": "12de2076",
   "metadata": {},
   "outputs": [],
   "source": [
    "class KNN(BaseEstimator, ClassifierMixin):\n",
    "    def __init__(self, k=5):\n",
    "        self.k = k\n",
    "    \n",
    "    def fit(self, data, labels):\n",
    "        self.data = data\n",
    "        self.labels = labels\n",
    "        return self\n",
    "    \n",
    "    def predict(self, data):\n",
    "        res = np.ndarray((data.shape[0],))\n",
    "        for i, x in enumerate(data):\n",
    "            neighbors = np.argpartition(((self.data - data[i]) ** 2).sum(axis=1), self.k - 1)[:self.k]\n",
    "            values, counts = np.unique(self.labels[neighbors], return_counts=True)\n",
    "            res[i] = values[counts.argmax()]\n",
    "        return res"
   ]
  },
  {
   "cell_type": "code",
   "execution_count": 17,
   "id": "867c0740",
   "metadata": {},
   "outputs": [
    {
     "name": "stdout",
     "output_type": "stream",
     "text": [
      "{'knn__k': 21}\n",
      "0.7275423709472013\n"
     ]
    }
   ],
   "source": [
    "gcv = GridSearchCV(Pipeline([('scaler', StandardScaler()), ('knn', KNN())]),\n",
    "                    {'knn__k': range(25)})\n",
    "gcv.fit(X_train.to_numpy(), y_train.to_numpy())\n",
    "print(gcv.best_params_, gcv.best_score_, sep='\\n')"
   ]
  },
  {
   "cell_type": "code",
   "execution_count": 18,
   "id": "b46c103f",
   "metadata": {
    "scrolled": true
   },
   "outputs": [
    {
     "name": "stdout",
     "output_type": "stream",
     "text": [
      "Accuracy: 0.7306753458096013\n",
      "Precision: 0.7203791469194313\n",
      "Recall: 0.7475409836065574\n"
     ]
    },
    {
     "data": {
      "image/png": "[encoded data removed]",
      "text/plain": [
       "<Figure size 864x288 with 2 Axes>"
      ]
     },
     "metadata": {
      "needs_background": "light"
     },
     "output_type": "display_data"
    }
   ],
   "source": [
    "kn = gcv.best_estimator_\n",
    "scores(kn, X_test, y_test)"
   ]
  },
  {
   "cell_type": "code",
   "execution_count": 19,
   "id": "755a2c03",
   "metadata": {},
   "outputs": [],
   "source": [
    "f = open(\"knn.pkl\", \"wb\")\n",
    "pickle.dump(kn, f, pickle.HIGHEST_PROTOCOL)\n",
    "f.close()"
   ]
  },
  {
   "cell_type": "markdown",
   "id": "03932a52",
   "metadata": {},
   "source": [
    "Сравним с KNN из sklearn"
   ]
  },
  {
   "cell_type": "code",
   "execution_count": 20,
   "id": "708121dc",
   "metadata": {},
   "outputs": [
    {
     "name": "stdout",
     "output_type": "stream",
     "text": [
      "{'knn__n_neighbors': 18}\n",
      "0.7271957652636593\n"
     ]
    }
   ],
   "source": [
    "from sklearn.neighbors import KNeighborsClassifier\n",
    "\n",
    "gcv = GridSearchCV(Pipeline([('scaler', StandardScaler()), ('knn', KNeighborsClassifier())]),\n",
    "                    {'knn__n_neighbors': range(25)})\n",
    "gcv.fit(X_train, y_train)\n",
    "print(gcv.best_params_, gcv.best_score_, sep='\\n')"
   ]
  },
  {
   "cell_type": "code",
   "execution_count": 21,
   "id": "5b6fed10",
   "metadata": {},
   "outputs": [
    {
     "name": "stdout",
     "output_type": "stream",
     "text": [
      "Accuracy: 0.7282343368592351\n",
      "Precision: 0.7379310344827587\n",
      "Recall: 0.7016393442622951\n"
     ]
    },
    {
     "data": {
      "image/png": "[encoded data removed]",
      "text/plain": [
       "<Figure size 864x288 with 2 Axes>"
      ]
     },
     "metadata": {
      "needs_background": "light"
     },
     "output_type": "display_data"
    }
   ],
   "source": [
    "kn = gcv.best_estimator_\n",
    "scores(kn, X_test, y_test)"
   ]
  },
  {
   "cell_type": "markdown",
   "id": "c953f700",
   "metadata": {},
   "source": [
    "## NaiveBayes"
   ]
  },
  {
   "cell_type": "code",
   "execution_count": 22,
   "id": "0d685849",
   "metadata": {},
   "outputs": [],
   "source": [
    "class NaiveBayes(BaseEstimator, ClassifierMixin):\n",
    "    def __init__(self, bins):\n",
    "        self.bins = bins\n",
    "        pass\n",
    "    \n",
    "    def fit(self, data, labels):\n",
    "        self.data = data\n",
    "        self.labels = labels\n",
    "        self.classes = []\n",
    "        for j in np.unique(labels):\n",
    "            \n",
    "            self.classes.append([])\n",
    "            for i in range (data.shape[1]):\n",
    "                self.classes[j].append([*np.histogram(data[labels == j, i], bins = self.bins)])\n",
    "                self.classes[j][-1][0] = self.classes[j][-1][0].astype('float64') / len(data[labels == j, i])\n",
    "        \n",
    "        self.prclasses = np.unique(labels, return_counts = True)[1] / len(labels)\n",
    "        \n",
    "    def predict(self, maindata):\n",
    "        res = np.ndarray((maindata.shape[0],))\n",
    "        for j, data in enumerate(maindata):\n",
    "            maximum = 0\n",
    "            ans = 0\n",
    "            for i in range(len(self.classes)):\n",
    "                p = self.prclasses[i]\n",
    "                for k in range(len(self.classes[i])):\n",
    "                    ind = np.digitize(data[k], self.classes[i][k][1])\n",
    "                    \n",
    "                    if ind >= len(self.classes[i][k][1]) or ind <= 0:\n",
    "                        p = 0\n",
    "                    else:\n",
    "                        p *= self.classes[i][k][0][ind - 1]\n",
    "                    \n",
    "                if p > maximum:\n",
    "                    maximum = p\n",
    "                    ans = i\n",
    "            res[j] = ans\n",
    "        return res"
   ]
  },
  {
   "cell_type": "code",
   "execution_count": 23,
   "id": "297fc296",
   "metadata": {},
   "outputs": [
    {
     "name": "stdout",
     "output_type": "stream",
     "text": [
      "{'nb__bins': 3}\n",
      "0.7090514598368002\n"
     ]
    }
   ],
   "source": [
    "gcv = GridSearchCV(Pipeline([('normalizer', Normalizer()), ('nb', NaiveBayes(10))]),\n",
    "                    {'nb__bins': range(50)})\n",
    "gcv.fit(X_train.to_numpy(), y_train.to_numpy())\n",
    "print(gcv.best_params_, gcv.best_score_, sep='\\n')"
   ]
  },
  {
   "cell_type": "code",
   "execution_count": 24,
   "id": "8d9f20f1",
   "metadata": {},
   "outputs": [
    {
     "name": "stdout",
     "output_type": "stream",
     "text": [
      "Accuracy: 0.7168429617575265\n",
      "Precision: 0.6829608938547486\n",
      "Recall: 0.8016393442622951\n"
     ]
    },
    {
     "data": {
      "image/png": "[encoded data removed]",
      "text/plain": [
       "<Figure size 864x288 with 2 Axes>"
      ]
     },
     "metadata": {
      "needs_background": "light"
     },
     "output_type": "display_data"
    }
   ],
   "source": [
    "nb = gcv.best_estimator_\n",
    "scores(nb, X_test, y_test)"
   ]
  },
  {
   "cell_type": "code",
   "execution_count": 25,
   "id": "9dcc3b47",
   "metadata": {},
   "outputs": [],
   "source": [
    "f = open(\"nb.pkl\", \"wb\")\n",
    "pickle.dump(nb, f, pickle.HIGHEST_PROTOCOL)\n",
    "f.close()"
   ]
  },
  {
   "cell_type": "markdown",
   "id": "51c0a254",
   "metadata": {},
   "source": [
    "Теперь оно же, но из sklearn"
   ]
  },
  {
   "cell_type": "code",
   "execution_count": 26,
   "id": "707a6dfc",
   "metadata": {},
   "outputs": [
    {
     "name": "stdout",
     "output_type": "stream",
     "text": [
      "Accuracy: 0.7164361269324654\n",
      "Precision: 0.7060677698975572\n",
      "Recall: 0.7344262295081967\n"
     ]
    },
    {
     "data": {
      "image/png": "[encoded data removed]",
      "text/plain": [
       "<Figure size 864x288 with 2 Axes>"
      ]
     },
     "metadata": {
      "needs_background": "light"
     },
     "output_type": "display_data"
    }
   ],
   "source": [
    "from sklearn.naive_bayes import GaussianNB\n",
    "\n",
    "nb = Pipeline([('nb', GaussianNB())])\n",
    "nb.fit(X_train, y_train)\n",
    "scores(nb, X_test, y_test)"
   ]
  },
  {
   "cell_type": "markdown",
   "id": "9edb648b",
   "metadata": {},
   "source": [
    "## SVM"
   ]
  },
  {
   "cell_type": "code",
   "execution_count": 27,
   "id": "bbc836a1",
   "metadata": {},
   "outputs": [],
   "source": [
    "class SVM(BaseEstimator, ClassifierMixin):\n",
    "    def __init__(self, lr=0.1, batch=10, epochs=1, alpha=0.0001):\n",
    "        self.lr = lr\n",
    "        self.batch = batch\n",
    "        self.epochs = epochs\n",
    "        self.alpha = alpha\n",
    "    \n",
    "    def fit(self, data, labels):\n",
    "        self.w = np.random.normal(0, 1, (data.shape[1]+1,))\n",
    "        data = np.concatenate((data, np.ones((data.shape[0],1))), axis=1)\n",
    "        labels = labels * 2 - 1\n",
    "        for _ in range(self.epochs):\n",
    "            for i in range(self.batch, len(data), self.batch):\n",
    "                data_batch = data[i-self.batch:i]\n",
    "                labels_batch = labels[i-self.batch:i]\n",
    "                \n",
    "                grad = 2 * self.alpha * self.w\n",
    "                for i, x in enumerate(data_batch):\n",
    "                    if 1 - x.dot(self.w) * labels_batch[i] > 0:\n",
    "                        grad -= x * labels_batch[i]\n",
    "                \n",
    "                self.w -= self.lr * grad\n",
    "        return self\n",
    "\n",
    "    def predict(self, data):\n",
    "        return (np.sign(np.concatenate((data, np.ones((data.shape[0],1))), axis=1).dot(self.w)) + 1) / 2"
   ]
  },
  {
   "cell_type": "code",
   "execution_count": 28,
   "id": "9b63f66e",
   "metadata": {},
   "outputs": [
    {
     "name": "stdout",
     "output_type": "stream",
     "text": [
      "{'svm__alpha': 0.001, 'svm__batch': 1000, 'svm__epochs': 10, 'svm__lr': 0.001}\n",
      "0.7561513379618429\n"
     ]
    }
   ],
   "source": [
    "gcv = GridSearchCV(Pipeline([('scaler', StandardScaler()), ('svm', SVM())]),\n",
    "                    {'svm__lr': [0.1, 0.01, 0.001], 'svm__epochs': [1, 10, 100], \n",
    "                     'svm__batch': [10, 100, 1000], 'svm__alpha': [0.01, 0.001, 0.0001]})\n",
    "gcv.fit(X_train.to_numpy(), y_train.to_numpy())\n",
    "print(gcv.best_params_, gcv.best_score_, sep='\\n')"
   ]
  },
  {
   "cell_type": "code",
   "execution_count": 29,
   "id": "7c440433",
   "metadata": {},
   "outputs": [
    {
     "name": "stdout",
     "output_type": "stream",
     "text": [
      "Accuracy: 0.7457282343368592\n",
      "Precision: 0.7370517928286853\n",
      "Recall: 0.7581967213114754\n"
     ]
    },
    {
     "data": {
      "image/png": "[encoded data removed]",
      "text/plain": [
       "<Figure size 864x288 with 2 Axes>"
      ]
     },
     "metadata": {
      "needs_background": "light"
     },
     "output_type": "display_data"
    }
   ],
   "source": [
    "svm = gcv.best_estimator_\n",
    "scores(svm, X_test, y_test)"
   ]
  },
  {
   "cell_type": "code",
   "execution_count": 30,
   "id": "089bf4ed",
   "metadata": {},
   "outputs": [],
   "source": [
    "f = open(\"svm.pkl\", \"wb\")\n",
    "pickle.dump(svm, f, pickle.HIGHEST_PROTOCOL)\n",
    "f.close()"
   ]
  },
  {
   "cell_type": "code",
   "execution_count": null,
   "id": "136768da",
   "metadata": {},
   "outputs": [],
   "source": []
  }
 ],
 "metadata": {
  "kernelspec": {
   "display_name": "Python 3",
   "language": "python",
   "name": "python3"
  },
  "language_info": {
   "codemirror_mode": {
    "name": "ipython",
    "version": 3
   },
   "file_extension": ".py",
   "mimetype": "text/x-python",
   "name": "python",
   "nbconvert_exporter": "python",
   "pygments_lexer": "ipython3",
   "version": "3.9.6"
  }
 },
 "nbformat": 4,
 "nbformat_minor": 5
}
